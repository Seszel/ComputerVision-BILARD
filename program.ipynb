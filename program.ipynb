{
 "cells": [
  {
   "cell_type": "markdown",
   "metadata": {},
   "source": [
    "# Śledzenie rozgyrwki bilarda"
   ]
  },
  {
   "cell_type": "markdown",
   "metadata": {},
   "source": [
    "## Import niezbędnych bibliotek"
   ]
  },
  {
   "cell_type": "code",
   "execution_count": 2,
   "metadata": {},
   "outputs": [],
   "source": [
    "%matplotlib inline\n",
    "import matplotlib.pyplot as plt\n",
    "import numpy as np\n",
    "import cv2\n",
    "from collections import deque\n",
    "# import PIL\n",
    "# import os\n",
    "# import sys\n",
    "# import glob\n",
    "# import random\n",
    "\n",
    "# from pprint import pprint\n",
    "from ipywidgets import Video\n",
    "\n",
    "# from PIL import Image\n",
    "# from PIL.ExifTags import TAGS"
   ]
  },
  {
   "cell_type": "markdown",
   "metadata": {},
   "source": [
    "## Analiza wideo"
   ]
  },
  {
   "cell_type": "markdown",
   "metadata": {},
   "source": [
    "### Wczytanie wideo i jego podstawowych właściwości"
   ]
  },
  {
   "cell_type": "code",
   "execution_count": 2,
   "metadata": {},
   "outputs": [
    {
     "name": "stdout",
     "output_type": "stream",
     "text": [
      "Movie loaded :)\n",
      "Wysokość i szerokość obrazu: 1116 x 2038\n",
      "Liczba klatek na sekundę: 56.6412213740458\n"
     ]
    }
   ],
   "source": [
    "video = cv2.VideoCapture('data/9-ball/video11.mov')\n",
    "if video.isOpened():\n",
    "    print('Movie loaded :)')\n",
    "\n",
    "width = int(video.get(3))\n",
    "height = int(video.get(4))\n",
    "print(f'Wysokość i szerokość obrazu: {height} x {width}')\n",
    "\n",
    "fps = video.get(cv2.CAP_PROP_FPS)\n",
    "print(f'Liczba klatek na sekundę: {fps}')"
   ]
  },
  {
   "cell_type": "markdown",
   "metadata": {},
   "source": [
    "### Wyświetlenie analizowanego wideo"
   ]
  },
  {
   "cell_type": "code",
   "execution_count": 3,
   "metadata": {},
   "outputs": [
    {
     "data": {
      "application/vnd.jupyter.widget-view+json": {
       "model_id": "67b34ab5f63b40d5b57d91f407b2143d",
       "version_major": 2,
       "version_minor": 0
      },
      "text/plain": [
       "Video(value=b'\\x00\\x00\\x00\\x14ftypqt  \\x00\\x00\\x00\\x00qt  \\x00\\x00\\x00\\x08wide\\x00D\\xd0mmdat\\x00\\x00\\x00\\x1e\\x…"
      ]
     },
     "metadata": {},
     "output_type": "display_data"
    }
   ],
   "source": [
    "Video.from_file('data/9-ball/video11.mov')"
   ]
  },
  {
   "cell_type": "markdown",
   "metadata": {},
   "source": [
    "### Oddzielenie tła od ruszających się obiektów"
   ]
  },
  {
   "cell_type": "code",
   "execution_count": 4,
   "metadata": {},
   "outputs": [],
   "source": [
    "video_foreground_knn = cv2.VideoWriter('foreground_knn.avi', cv2.VideoWriter_fourcc(*'DIVX'), fps, (width, height), 0)\n",
    "video_foreground_mog2 = cv2.VideoWriter('foreground_mog2.avi', cv2.VideoWriter_fourcc(*'DIVX'), fps, (width, height), 0)\n",
    "\n",
    "foreground_knn = cv2.createBackgroundSubtractorKNN()\n",
    "foreground_mog2 = cv2.createBackgroundSubtractorMOG2()\n",
    "\n",
    "video.set(cv2.CAP_PROP_POS_FRAMES, 0)\n",
    "while video.isOpened():\n",
    "  ret, frame = video.read()\n",
    "\n",
    "  if ret:\n",
    "    video_foreground_knn.write(foreground_knn.apply(frame))\n",
    "    video_foreground_mog2.write(foreground_mog2.apply(frame))\n",
    "  else:\n",
    "    break\n",
    "\n",
    "video_foreground_knn.release()\n",
    "video_foreground_mog2.release()"
   ]
  },
  {
   "cell_type": "markdown",
   "metadata": {},
   "source": [
    "### Konwersja formatów wygenerowanych wideo"
   ]
  },
  {
   "cell_type": "code",
   "execution_count": 5,
   "metadata": {},
   "outputs": [],
   "source": [
    "!ffmpeg -hide_banner -loglevel error -i foreground_knn.avi -y foreground_knn.mp4\n",
    "!ffmpeg -hide_banner -loglevel error -i foreground_mog2.avi -y foreground_mog2.mp4"
   ]
  },
  {
   "cell_type": "markdown",
   "metadata": {},
   "source": [
    "### Wyświetlenie wyników działania algorytmów oddzielających tło od ruszających się obiektów (maskujących tło)"
   ]
  },
  {
   "cell_type": "code",
   "execution_count": 6,
   "metadata": {},
   "outputs": [
    {
     "name": "stdout",
     "output_type": "stream",
     "text": [
      "Algorytm cv2.createBackgroundSubtractorKNN()\n"
     ]
    },
    {
     "data": {
      "application/vnd.jupyter.widget-view+json": {
       "model_id": "e2918e9934d74d74973c8ca7cfdc6784",
       "version_major": 2,
       "version_minor": 0
      },
      "text/plain": [
       "Video(value=b'\\x00\\x00\\x00 ftypisom\\x00\\x00\\x02\\x00isomiso2avc1mp41\\x00\\x00\\x00\\x08free\\x00\\r\\xddimdat\\x00\\x00…"
      ]
     },
     "metadata": {},
     "output_type": "display_data"
    }
   ],
   "source": [
    "print('Algorytm cv2.createBackgroundSubtractorKNN()')\n",
    "Video.from_file('foreground_knn.mp4')"
   ]
  },
  {
   "cell_type": "code",
   "execution_count": 7,
   "metadata": {},
   "outputs": [
    {
     "name": "stdout",
     "output_type": "stream",
     "text": [
      "Algorytm cv2.createBackgroundSubtractorMOG2()\n"
     ]
    },
    {
     "data": {
      "application/vnd.jupyter.widget-view+json": {
       "model_id": "b83c8b9249a248caa0e6b3cce82c32c2",
       "version_major": 2,
       "version_minor": 0
      },
      "text/plain": [
       "Video(value=b'\\x00\\x00\\x00 ftypisom\\x00\\x00\\x02\\x00isomiso2avc1mp41\\x00\\x00\\x00\\x08free\\x00\\x12\\xb16mdat\\x00\\x…"
      ]
     },
     "metadata": {},
     "output_type": "display_data"
    }
   ],
   "source": [
    "print('Algorytm cv2.createBackgroundSubtractorMOG2()')\n",
    "Video.from_file('foreground_mog2.mp4')"
   ]
  },
  {
   "cell_type": "markdown",
   "metadata": {},
   "source": [
    "Po analizie wyników działania powyższych algorytmów do dalszej pracy wybieram algorytm KNN, który osiągnął lepszy wynik od MOG2."
   ]
  },
  {
   "cell_type": "markdown",
   "metadata": {},
   "source": [
    "### Poszukiwanie współrzędnych bil na filmie"
   ]
  },
  {
   "cell_type": "code",
   "execution_count": 1,
   "metadata": {},
   "outputs": [
    {
     "ename": "NameError",
     "evalue": "name 'cv2' is not defined",
     "output_type": "error",
     "traceback": [
      "\u001b[0;31m---------------------------------------------------------------------------\u001b[0m",
      "\u001b[0;31mNameError\u001b[0m                                 Traceback (most recent call last)",
      "\u001b[0;32m<ipython-input-1-7268bed1bdac>\u001b[0m in \u001b[0;36m<module>\u001b[0;34m\u001b[0m\n\u001b[0;32m----> 1\u001b[0;31m \u001b[0mvideo\u001b[0m \u001b[0;34m=\u001b[0m \u001b[0mcv2\u001b[0m\u001b[0;34m.\u001b[0m\u001b[0mVideoCapture\u001b[0m\u001b[0;34m(\u001b[0m\u001b[0;34m'data/9-ball/video9.mov'\u001b[0m\u001b[0;34m)\u001b[0m\u001b[0;34m\u001b[0m\u001b[0;34m\u001b[0m\u001b[0m\n\u001b[0m\u001b[1;32m      2\u001b[0m \u001b[0;34m\u001b[0m\u001b[0m\n\u001b[1;32m      3\u001b[0m \u001b[0;32mwhile\u001b[0m \u001b[0;32mTrue\u001b[0m\u001b[0;34m:\u001b[0m\u001b[0;34m\u001b[0m\u001b[0;34m\u001b[0m\u001b[0m\n\u001b[1;32m      4\u001b[0m     \u001b[0;31m# Take each frame\u001b[0m\u001b[0;34m\u001b[0m\u001b[0;34m\u001b[0m\u001b[0;34m\u001b[0m\u001b[0m\n\u001b[1;32m      5\u001b[0m     \u001b[0m_\u001b[0m\u001b[0;34m,\u001b[0m \u001b[0mframe\u001b[0m \u001b[0;34m=\u001b[0m \u001b[0mvideo\u001b[0m\u001b[0;34m.\u001b[0m\u001b[0mread\u001b[0m\u001b[0;34m(\u001b[0m\u001b[0;34m)\u001b[0m\u001b[0;34m\u001b[0m\u001b[0;34m\u001b[0m\u001b[0m\n",
      "\u001b[0;31mNameError\u001b[0m: name 'cv2' is not defined"
     ]
    }
   ],
   "source": [
    "video = cv2.VideoCapture('data/9-ball/video9.mov')\n",
    "\n",
    "while True:\n",
    "    # Take each frame\n",
    "    _, frame = video.read()\n",
    "\n",
    "    # If video ends then break\n",
    "    if frame is None:\n",
    "        break\n",
    "\n",
    "    blur = cv2.medianBlur(frame,5)\n",
    "    cimg = cv2.cvtColor(blur,cv2.COLOR_BGR2GRAY)\n",
    "    circles = cv2.HoughCircles(cimg,cv2.HOUGH_GRADIENT,1,10,\n",
    "                                param1=50,param2=30,minRadius=10,maxRadius=30)\n",
    "\n",
    "    circles = np.uint16(np.around(circles))\n",
    "\n",
    "    for i in circles[0,:]:\n",
    "        # draw the outer circle\n",
    "        cv2.circle(frame,(i[0],i[1]),i[2],(0,255,0),2)\n",
    "        # draw the center of the circle\n",
    "        cv2.circle(frame,(i[0],i[1]),2,(0,0,255),3)\n",
    "\n",
    "    cv2.imshow('frame',frame)\n",
    "\n",
    "    if cv2.waitKey(1) & 0xFF == ord('q'):\n",
    "        break\n",
    "\n",
    "cv2.destroyAllWindows()"
   ]
  },
  {
   "cell_type": "code",
   "execution_count": null,
   "metadata": {},
   "outputs": [],
   "source": []
  }
 ],
 "metadata": {
  "interpreter": {
   "hash": "e7c73bb61e1e781e5a38db13f9266bf69d55f6e669256f1cdd7a40f3a1ccea49"
  },
  "kernelspec": {
   "display_name": "Python 3.8.8 ('base')",
   "language": "python",
   "name": "python3"
  },
  "language_info": {
   "codemirror_mode": {
    "name": "ipython",
    "version": 3
   },
   "file_extension": ".py",
   "mimetype": "text/x-python",
   "name": "python",
   "nbconvert_exporter": "python",
   "pygments_lexer": "ipython3",
   "version": "3.8.8"
  },
  "orig_nbformat": 4
 },
 "nbformat": 4,
 "nbformat_minor": 2
}
