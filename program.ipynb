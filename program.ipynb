{
 "cells": [
  {
   "cell_type": "markdown",
   "metadata": {},
   "source": [
    "# Śledzenie rozgyrwki bilarda"
   ]
  },
  {
   "cell_type": "markdown",
   "metadata": {},
   "source": [
    "## Import niezbędnych bibliotek"
   ]
  },
  {
   "cell_type": "code",
   "execution_count": 1,
   "metadata": {},
   "outputs": [],
   "source": [
    "%matplotlib inline\n",
    "import matplotlib.pyplot as plt\n",
    "import numpy as np\n",
    "import cv2\n",
    "from collections import deque\n",
    "# import PIL\n",
    "# import os\n",
    "# import sys\n",
    "# import glob\n",
    "# import random\n",
    "\n",
    "# from pprint import pprint\n",
    "from ipywidgets import Video\n",
    "\n",
    "# from PIL import Image\n",
    "# from PIL.ExifTags import TAGS"
   ]
  },
  {
   "cell_type": "markdown",
   "metadata": {},
   "source": [
    "## Analiza wideo"
   ]
  },
  {
   "cell_type": "markdown",
   "metadata": {},
   "source": [
    "### Wczytanie wideo i jego podstawowych właściwości"
   ]
  },
  {
   "cell_type": "code",
   "execution_count": 33,
   "metadata": {},
   "outputs": [
    {
     "name": "stdout",
     "output_type": "stream",
     "text": [
      "Movie loaded :)\n",
      "Wysokość i szerokość obrazu: 1054 x 1924\n",
      "Liczba klatek na sekundę: 59.891696750902526\n"
     ]
    }
   ],
   "source": [
    "video = cv2.VideoCapture('data/9-ball/video6.mov')\n",
    "if video.isOpened():\n",
    "    print('Movie loaded :)')\n",
    "\n",
    "width = int(video.get(3))\n",
    "height = int(video.get(4))\n",
    "print(f'Wysokość i szerokość obrazu: {height} x {width}')\n",
    "\n",
    "fps = video.get(cv2.CAP_PROP_FPS)\n",
    "print(f'Liczba klatek na sekundę: {fps}')"
   ]
  },
  {
   "cell_type": "markdown",
   "metadata": {},
   "source": [
    "### Wyświetlenie analizowanego wideo"
   ]
  },
  {
   "cell_type": "code",
   "execution_count": 3,
   "metadata": {},
   "outputs": [
    {
     "data": {
      "application/vnd.jupyter.widget-view+json": {
       "model_id": "e9a217c94a9043329600a848be2d4dc4",
       "version_major": 2,
       "version_minor": 0
      },
      "text/plain": [
       "Video(value=b'\\x00\\x00\\x00\\x14ftypqt  \\x00\\x00\\x00\\x00qt  \\x00\\x00\\x00\\x08wide\\x00D\\xd0mmdat\\x00\\x00\\x00\\x1e\\x…"
      ]
     },
     "metadata": {},
     "output_type": "display_data"
    }
   ],
   "source": [
    "Video.from_file('data/9-ball/video11.mov')"
   ]
  },
  {
   "cell_type": "markdown",
   "metadata": {},
   "source": [
    "### Oddzielenie tła od ruszających się obiektów"
   ]
  },
  {
   "cell_type": "code",
   "execution_count": 4,
   "metadata": {},
   "outputs": [],
   "source": [
    "video_foreground_knn = cv2.VideoWriter('foreground_knn.avi', cv2.VideoWriter_fourcc(*'DIVX'), fps, (width, height), 0)\n",
    "video_foreground_mog2 = cv2.VideoWriter('foreground_mog2.avi', cv2.VideoWriter_fourcc(*'DIVX'), fps, (width, height), 0)\n",
    "\n",
    "foreground_knn = cv2.createBackgroundSubtractorKNN()\n",
    "foreground_mog2 = cv2.createBackgroundSubtractorMOG2()\n",
    "\n",
    "video.set(cv2.CAP_PROP_POS_FRAMES, 0)\n",
    "while video.isOpened():\n",
    "  ret, frame = video.read()\n",
    "\n",
    "  if ret:\n",
    "    video_foreground_knn.write(foreground_knn.apply(frame))\n",
    "    video_foreground_mog2.write(foreground_mog2.apply(frame))\n",
    "  else:\n",
    "    break\n",
    "\n",
    "video_foreground_knn.release()\n",
    "video_foreground_mog2.release()"
   ]
  },
  {
   "cell_type": "markdown",
   "metadata": {},
   "source": [
    "### Konwersja formatów wygenerowanych wideo"
   ]
  },
  {
   "cell_type": "code",
   "execution_count": 5,
   "metadata": {},
   "outputs": [],
   "source": [
    "!ffmpeg -hide_banner -loglevel error -i foreground_knn.avi -y foreground_knn.mp4\n",
    "!ffmpeg -hide_banner -loglevel error -i foreground_mog2.avi -y foreground_mog2.mp4"
   ]
  },
  {
   "cell_type": "markdown",
   "metadata": {},
   "source": [
    "### Wyświetlenie wyników działania algorytmów oddzielających tło od ruszających się obiektów (maskujących tło)"
   ]
  },
  {
   "cell_type": "code",
   "execution_count": 6,
   "metadata": {},
   "outputs": [
    {
     "name": "stdout",
     "output_type": "stream",
     "text": [
      "Algorytm cv2.createBackgroundSubtractorKNN()\n"
     ]
    },
    {
     "data": {
      "application/vnd.jupyter.widget-view+json": {
       "model_id": "4a39a377d4fd4f91acfb5ac53c3d36b4",
       "version_major": 2,
       "version_minor": 0
      },
      "text/plain": [
       "Video(value=b'\\x00\\x00\\x00 ftypisom\\x00\\x00\\x02\\x00isomiso2avc1mp41\\x00\\x00\\x00\\x08free\\x00\\r\\xddimdat\\x00\\x00…"
      ]
     },
     "metadata": {},
     "output_type": "display_data"
    }
   ],
   "source": [
    "print('Algorytm cv2.createBackgroundSubtractorKNN()')\n",
    "Video.from_file('foreground_knn.mp4')"
   ]
  },
  {
   "cell_type": "code",
   "execution_count": 7,
   "metadata": {},
   "outputs": [
    {
     "name": "stdout",
     "output_type": "stream",
     "text": [
      "Algorytm cv2.createBackgroundSubtractorMOG2()\n"
     ]
    },
    {
     "data": {
      "application/vnd.jupyter.widget-view+json": {
       "model_id": "0c7b5d2a69904f66ba8bc0724385da09",
       "version_major": 2,
       "version_minor": 0
      },
      "text/plain": [
       "Video(value=b'\\x00\\x00\\x00 ftypisom\\x00\\x00\\x02\\x00isomiso2avc1mp41\\x00\\x00\\x00\\x08free\\x00\\x12\\xb16mdat\\x00\\x…"
      ]
     },
     "metadata": {},
     "output_type": "display_data"
    }
   ],
   "source": [
    "print('Algorytm cv2.createBackgroundSubtractorMOG2()')\n",
    "Video.from_file('foreground_mog2.mp4')"
   ]
  },
  {
   "cell_type": "markdown",
   "metadata": {},
   "source": [
    "Po analizie wyników działania powyższych algorytmów do dalszej pracy wybieram algorytm KNN, który osiągnął lepszy wynik od MOG2."
   ]
  },
  {
   "cell_type": "markdown",
   "metadata": {},
   "source": [
    "### Poszukiwanie współrzędnych bil na filmie"
   ]
  },
  {
   "cell_type": "code",
   "execution_count": 15,
   "metadata": {},
   "outputs": [
    {
     "name": "stdout",
     "output_type": "stream",
     "text": [
      "[[[ 600  790   22]\n",
      "  [ 606  910   20]\n",
      "  [ 616  188   18]\n",
      "  [1268  654   17]\n",
      "  [ 456  578   14]\n",
      "  [ 858  650   21]\n",
      "  [1794  972   17]]]\n"
     ]
    }
   ],
   "source": [
    "video = cv2.VideoCapture('data/9-ball/video6.mov')\n",
    "circles = None\n",
    "\n",
    "while True:\n",
    "    # Take each frame\n",
    "    _, frame = video.read()\n",
    "\n",
    "    # If video ends then break\n",
    "    if frame is None:\n",
    "        break\n",
    "\n",
    "    blur = cv2.medianBlur(frame,5)\n",
    "    cimg = cv2.cvtColor(blur,cv2.COLOR_BGR2GRAY)\n",
    "    circles = cv2.HoughCircles(cimg,cv2.HOUGH_GRADIENT,1,10,\n",
    "                                param1=50,param2=30,minRadius=10,maxRadius=25)\n",
    "\n",
    "    circles = np.uint16(np.around(circles))\n",
    "\n",
    "    for i in circles[0,:]:\n",
    "        # draw the outer circle\n",
    "        cv2.circle(frame,(i[0],i[1]),i[2],(0,255,0),2)\n",
    "        # draw the center of the circle\n",
    "        cv2.circle(frame,(i[0],i[1]),2,(0,0,255),3)\n",
    "\n",
    "    cv2.imshow('frame',frame)\n",
    "\n",
    "    if cv2.waitKey(1) & 0xFF == ord('q'):\n",
    "        break\n",
    "\n",
    "cv2.destroyAllWindows()"
   ]
  },
  {
   "cell_type": "markdown",
   "metadata": {},
   "source": [
    "### Wykorzystanie algorytmu CSRT do śledzenia znalezionych bili na filmie"
   ]
  },
  {
   "cell_type": "code",
   "execution_count": 82,
   "metadata": {},
   "outputs": [],
   "source": [
    "def create_tracker(tracker_type):\n",
    "  tracker_types = ['BOOSTING', 'MIL','KCF', 'TLD', 'MEDIANFLOW', 'GOTURN', 'MOSSE', 'CSRT']\n",
    "\n",
    "  if tracker_type == 'BOOSTING':\n",
    "      return cv2.TrackerBoosting_create()\n",
    "  if tracker_type == 'MIL':\n",
    "      return cv2.TrackerMIL_create()\n",
    "  if tracker_type == 'KCF':\n",
    "      return cv2.TrackerKCF_create()\n",
    "  if tracker_type == 'TLD':\n",
    "      return cv2.TrackerTLD_create()\n",
    "  if tracker_type == 'MEDIANFLOW':\n",
    "      return cv2.TrackerMedianFlow_create()\n",
    "  if tracker_type == 'GOTURN':\n",
    "      return cv2.TrackerGOTURN_create()\n",
    "  if tracker_type == 'MOSSE':\n",
    "      return cv2.TrackerMOSSE_create()\n",
    "  if tracker_type == \"CSRT\":\n",
    "      return cv2.TrackerCSRT_create()\n",
    "\n",
    "def draw_bbox(frame, bbox, color=(255, 255, 255)):\n",
    "  p1 = (int(bbox[0]), int(bbox[1]))\n",
    "  p2 = (int(bbox[0] + bbox[2]), int(bbox[1] + bbox[3]))\n",
    "  cv2.rectangle(frame, p1, p2, color, 2, 1)\n",
    "\n",
    "def circle_to_rectangle(circle):\n",
    "    return (int(circle[0]-circle[2]-10), int(circle[1]-circle[2]-10), int(2*circle[2]+30),  int(2*circle[2]+30))"
   ]
  },
  {
   "cell_type": "code",
   "execution_count": 87,
   "metadata": {},
   "outputs": [
    {
     "name": "stdout",
     "output_type": "stream",
     "text": [
      "Movie loaded :)\n",
      "Wysokość i szerokość obrazu: 1116 x 2038\n",
      "Liczba klatek na sekundę: 56.14600439996282\n"
     ]
    }
   ],
   "source": [
    "video = cv2.VideoCapture('data/9-ball/video10.mov')\n",
    "if video.isOpened():\n",
    "    print('Movie loaded :)')\n",
    "\n",
    "width = int(video.get(3))\n",
    "height = int(video.get(4))\n",
    "print(f'Wysokość i szerokość obrazu: {height} x {width}')\n",
    "\n",
    "fps = video.get(cv2.CAP_PROP_FPS)\n",
    "print(f'Liczba klatek na sekundę: {fps}')\n",
    "\n",
    "video.set(cv2.CAP_PROP_POS_FRAMES, 0)\n",
    "ret, frame = video.read()\n",
    "\n",
    "blur = cv2.medianBlur(frame,5)\n",
    "cimg = cv2.cvtColor(blur,cv2.COLOR_BGR2GRAY)\n",
    "circles = cv2.HoughCircles(cimg,cv2.HOUGH_GRADIENT,1,10,\n",
    "                            param1=50,param2=30,minRadius=10,maxRadius=30)\n",
    "circles = np.uint16(np.around(circles))\n",
    "\n",
    "bills = []\n",
    "for c in circles[0]:\n",
    "  bills.append(create_tracker('CSRT'))\n",
    "  bills[-1].init(frame, circle_to_rectangle(c))\n",
    "\n",
    "video_tracker = cv2.VideoWriter('video_tracker.avi', cv2.VideoWriter_fourcc(*'DIVX'), fps, (width, height))\n",
    "\n",
    "video.set(cv2.CAP_PROP_POS_FRAMES, 0)\n",
    "while video.isOpened():\n",
    "    ret, frame = video.read()\n",
    "\n",
    "    if ret:\n",
    "      for b in bills:\n",
    "        ok, bbox = b.update(frame)\n",
    "        if ok: draw_bbox(frame, bbox, (0, 255, 0))\n",
    "\n",
    "      video_tracker.write(frame)\n",
    "    else:\n",
    "        break\n",
    "\n",
    "video_tracker.release()"
   ]
  },
  {
   "cell_type": "code",
   "execution_count": 88,
   "metadata": {},
   "outputs": [],
   "source": [
    "!ffmpeg -hide_banner -loglevel error -i video_tracker.avi -y video_tracker.mp4"
   ]
  },
  {
   "cell_type": "code",
   "execution_count": 89,
   "metadata": {},
   "outputs": [
    {
     "data": {
      "application/vnd.jupyter.widget-view+json": {
       "model_id": "a37b8b3cddde477c873333fc865928c2",
       "version_major": 2,
       "version_minor": 0
      },
      "text/plain": [
       "Video(value=b'\\x00\\x00\\x00 ftypisom\\x00\\x00\\x02\\x00isomiso2avc1mp41\\x00\\x00\\x00\\x08free\\x00\\n\\xe8(mdat\\x00\\x00…"
      ]
     },
     "metadata": {},
     "output_type": "display_data"
    }
   ],
   "source": [
    "Video.from_file('./video_tracker.mp4')"
   ]
  },
  {
   "cell_type": "code",
   "execution_count": null,
   "metadata": {},
   "outputs": [],
   "source": []
  }
 ],
 "metadata": {
  "interpreter": {
   "hash": "e7c73bb61e1e781e5a38db13f9266bf69d55f6e669256f1cdd7a40f3a1ccea49"
  },
  "kernelspec": {
   "display_name": "Python 3.8.8 ('base')",
   "language": "python",
   "name": "python3"
  },
  "language_info": {
   "codemirror_mode": {
    "name": "ipython",
    "version": 3
   },
   "file_extension": ".py",
   "mimetype": "text/x-python",
   "name": "python",
   "nbconvert_exporter": "python",
   "pygments_lexer": "ipython3",
   "version": "3.8.8"
  },
  "orig_nbformat": 4
 },
 "nbformat": 4,
 "nbformat_minor": 2
}
