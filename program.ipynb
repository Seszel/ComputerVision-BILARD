{
 "cells": [
  {
   "cell_type": "markdown",
   "metadata": {},
   "source": [
    "# Śledzenie rozgyrwki bilarda"
   ]
  },
  {
   "cell_type": "markdown",
   "metadata": {},
   "source": [
    "## Import niezbędnych bibliotek"
   ]
  },
  {
   "cell_type": "code",
   "execution_count": 14,
   "metadata": {},
   "outputs": [],
   "source": [
    "%matplotlib inline\n",
    "import matplotlib.pyplot as plt\n",
    "import numpy as np\n",
    "import cv2\n",
    "from collections import deque\n",
    "# import PIL\n",
    "# import os\n",
    "# import sys\n",
    "# import glob\n",
    "# import random\n",
    "\n",
    "# from pprint import pprint\n",
    "from ipywidgets import Video\n",
    "\n",
    "import PIL\n",
    "from IPython.display import display\n",
    "# from PIL.ExifTags import TAGS\n",
    "\n",
    "def imshow(a):\n",
    "  a = a.clip(0, 255).astype('uint8')\n",
    "  if a.ndim == 3:\n",
    "    if a.shape[2] == 4:\n",
    "      a = cv2.cvtColor(a, cv2.COLOR_BGRA2RGBA)\n",
    "    else:\n",
    "      a = cv2.cvtColor(a, cv2.COLOR_BGR2RGB)\n",
    "  display(PIL.Image.fromarray(a))"
   ]
  },
  {
   "cell_type": "markdown",
   "metadata": {},
   "source": [
    "## Analiza wideo"
   ]
  },
  {
   "cell_type": "markdown",
   "metadata": {},
   "source": [
    "### Wczytanie wideo i jego podstawowych właściwości"
   ]
  },
  {
   "cell_type": "code",
   "execution_count": 15,
   "metadata": {},
   "outputs": [
    {
     "name": "stdout",
     "output_type": "stream",
     "text": [
      "Movie loaded :)\n",
      "Wysokość i szerokość obrazu: 1054 x 1924\n",
      "Liczba klatek na sekundę: 59.891696750902526\n"
     ]
    }
   ],
   "source": [
    "video = cv2.VideoCapture('data/9-ball/video6.mov')\n",
    "if video.isOpened():\n",
    "    print('Movie loaded :)')\n",
    "\n",
    "width = int(video.get(3))\n",
    "height = int(video.get(4))\n",
    "print(f'Wysokość i szerokość obrazu: {height} x {width}')\n",
    "\n",
    "fps = video.get(cv2.CAP_PROP_FPS)\n",
    "print(f'Liczba klatek na sekundę: {fps}')"
   ]
  },
  {
   "cell_type": "markdown",
   "metadata": {},
   "source": [
    "### Wyświetlenie analizowanego wideo"
   ]
  },
  {
   "cell_type": "code",
   "execution_count": 16,
   "metadata": {},
   "outputs": [
    {
     "data": {
      "application/vnd.jupyter.widget-view+json": {
       "model_id": "698c9972dd1843709ae7d121c66c3395",
       "version_major": 2,
       "version_minor": 0
      },
      "text/plain": [
       "Video(value=b'\\x00\\x00\\x00\\x14ftypqt  \\x00\\x00\\x00\\x00qt  \\x00\\x00\\x00\\x08wide\\x01\\x02\\xee\\xc3mdat\\x00\\x01\\x03…"
      ]
     },
     "metadata": {},
     "output_type": "display_data"
    }
   ],
   "source": [
    "Video.from_file('data/9-ball/video1.mov')"
   ]
  },
  {
   "cell_type": "markdown",
   "metadata": {},
   "source": [
    "### Poszukiwanie współrzędnych bil na filmie"
   ]
  },
  {
   "cell_type": "markdown",
   "metadata": {},
   "source": [
    "### Wykorzystanie algorytmu CSRT do śledzenia znalezionych bili na filmie"
   ]
  },
  {
   "cell_type": "code",
   "execution_count": 17,
   "metadata": {},
   "outputs": [],
   "source": [
    "def create_tracker(tracker_type):\n",
    "  tracker_types = ['BOOSTING', 'MIL','KCF', 'TLD', 'MEDIANFLOW', 'GOTURN', 'MOSSE', 'CSRT']\n",
    "\n",
    "  if tracker_type == 'BOOSTING':\n",
    "      return cv2.legacy.TrackerBoosting_create()\n",
    "  if tracker_type == 'MIL':\n",
    "      return cv2.legacy.TrackerMIL_create()\n",
    "  if tracker_type == 'KCF':\n",
    "      return cv2.legacy.TrackerKCF_create()\n",
    "  if tracker_type == 'TLD':\n",
    "      return cv2.legacy.TrackerTLD_create()\n",
    "  if tracker_type == 'MEDIANFLOW':\n",
    "      return cv2.legacy.TrackerMedianFlow_create()\n",
    "  if tracker_type == 'GOTURN':\n",
    "      return cv2.TrackerGOTURN_create()\n",
    "  if tracker_type == 'MOSSE':\n",
    "      return cv2.legacy.TrackerMOSSE_create()\n",
    "  if tracker_type == \"CSRT\":\n",
    "      return cv2.TrackerCSRT_create()\n"
   ]
  },
  {
   "cell_type": "code",
   "execution_count": 18,
   "metadata": {},
   "outputs": [],
   "source": [
    "def draw_bbox(frame, bbox, color=(255, 255, 255)):\n",
    "    p1 = (int(bbox[0]), int(bbox[1]))\n",
    "    p2 = (int(bbox[0] + bbox[2]), int(bbox[1] + bbox[3]))\n",
    "    cv2.rectangle(frame, p1, p2, color, 2, 1)\n",
    "    \n",
    "def circle_to_rectangle(circle, radius):\n",
    "    return (int(circle[0]-radius), int(circle[1]-radius), int(2*radius),  int(2*radius))\n",
    "\n",
    "def collision(c1, c2):\n",
    "    if (abs(c1[0] - c2[0])) < 80 and (abs(c1[1] - c2[1])) < 80:\n",
    "        return True\n",
    "    else:\n",
    "        return False\n",
    "\n",
    "def count_centroid(b):\n",
    "    return [ int(b[0] + b[2]/2), int(b[1] + b[3]/2) ]\n",
    "\n",
    "def count_distance(c1, c2):\n",
    "    clash = collision(c1, c2)\n",
    "    if clash:\n",
    "        x = (c1[0] + c2[0])/2\n",
    "        y = (c1[1] + c2[1])/2\n",
    "        return [int(x), int(y)]\n",
    "    else:\n",
    "        return 0"
   ]
  },
  {
   "cell_type": "code",
   "execution_count": 19,
   "metadata": {},
   "outputs": [
    {
     "name": "stdout",
     "output_type": "stream",
     "text": [
      "Movie loaded :)\n",
      "Liczba klatek na sekundę: 57.634408602150536\n"
     ]
    }
   ],
   "source": [
    "video = cv2.VideoCapture('movies/video4.mov')\n",
    "if video.isOpened():\n",
    "    print('Movie loaded :)')\n",
    "\n",
    "width = int(video.get(3))\n",
    "height = int(video.get(4))\n",
    "\n",
    "fps = video.get(cv2.CAP_PROP_FPS)\n",
    "print(f'Liczba klatek na sekundę: {fps}')\n"
   ]
  },
  {
   "cell_type": "code",
   "execution_count": 20,
   "metadata": {},
   "outputs": [],
   "source": [
    "number_of_frames = 5"
   ]
  },
  {
   "cell_type": "code",
   "execution_count": 54,
   "metadata": {},
   "outputs": [
    {
     "name": "stderr",
     "output_type": "stream",
     "text": [
      "/home/czewian/.local/lib/python3.7/site-packages/ipykernel_launcher.py:38: DeprecationWarning: `np.int` is a deprecated alias for the builtin `int`. To silence this warning, use `int` by itself. Doing this will not modify any behavior and is safe. When replacing `np.int`, you may wish to use e.g. `np.int64` or `np.int32` to specify the precision. If you wish to review your current use, check the release note link for additional information.\n",
      "Deprecated in NumPy 1.20; for more details and guidance: https://numpy.org/devdocs/release/1.20.0-notes.html#deprecations\n",
      "/home/czewian/.local/lib/python3.7/site-packages/ipykernel_launcher.py:39: DeprecationWarning: `np.int` is a deprecated alias for the builtin `int`. To silence this warning, use `int` by itself. Doing this will not modify any behavior and is safe. When replacing `np.int`, you may wish to use e.g. `np.int64` or `np.int32` to specify the precision. If you wish to review your current use, check the release note link for additional information.\n",
      "Deprecated in NumPy 1.20; for more details and guidance: https://numpy.org/devdocs/release/1.20.0-notes.html#deprecations\n",
      "/home/czewian/.local/lib/python3.7/site-packages/ipykernel_launcher.py:51: DeprecationWarning: `np.int` is a deprecated alias for the builtin `int`. To silence this warning, use `int` by itself. Doing this will not modify any behavior and is safe. When replacing `np.int`, you may wish to use e.g. `np.int64` or `np.int32` to specify the precision. If you wish to review your current use, check the release note link for additional information.\n",
      "Deprecated in NumPy 1.20; for more details and guidance: https://numpy.org/devdocs/release/1.20.0-notes.html#deprecations\n",
      "/home/czewian/.local/lib/python3.7/site-packages/ipykernel_launcher.py:52: DeprecationWarning: `np.int` is a deprecated alias for the builtin `int`. To silence this warning, use `int` by itself. Doing this will not modify any behavior and is safe. When replacing `np.int`, you may wish to use e.g. `np.int64` or `np.int32` to specify the precision. If you wish to review your current use, check the release note link for additional information.\n",
      "Deprecated in NumPy 1.20; for more details and guidance: https://numpy.org/devdocs/release/1.20.0-notes.html#deprecations\n"
     ]
    }
   ],
   "source": [
    "video.set(cv2.CAP_PROP_POS_FRAMES, 0)\n",
    "ret, frame = video.read()\n",
    "\n",
    "def distance(a, b):\n",
    "  return np.array((a[0] - b[0]) ** 2 + (a[1] - b[1]) ** 2)\n",
    "\n",
    "filter = np.array([\n",
    "  [-1, -1, -1], \n",
    "  [-1, 9, -1], \n",
    "  [-1, -1, -1]\n",
    "])\n",
    "\n",
    "HISTORY = 10\n",
    "MOV_TOLERANCE = 3\n",
    "\n",
    "sharpen_img_1=cv2.filter2D(frame,-1,filter)\n",
    "cimg = cv2.cvtColor(sharpen_img_1,cv2.COLOR_BGR2GRAY)\n",
    "circles = cv2.HoughCircles(cimg,cv2.HOUGH_GRADIENT,1,20,\n",
    "                            param1=60,param2=20,minRadius=13,maxRadius=22)\n",
    "circles = np.uint16(np.around(circles))\n",
    "max_radius = np.max(circles[0,:,2]) + 10\n",
    "\n",
    "blur = cv2.medianBlur(frame,7)\n",
    "cimg_blur = cv2.cvtColor(blur,cv2.COLOR_BGR2GRAY)\n",
    "circles_blur = cv2.HoughCircles(cimg,cv2.HOUGH_GRADIENT,1,30,\n",
    "                        param1=60,param2=20,minRadius=35,maxRadius=50)\n",
    "pockets = np.uint16(np.around(circles))\n",
    "\n",
    "\n",
    "bills = []\n",
    "\n",
    "for c in circles[0]:\n",
    "  bills.append(create_tracker('CSRT'))\n",
    "  bills[-1].init(frame, circle_to_rectangle(c, max_radius))\n",
    "\n",
    "frames_track = np.zeros((len(bills), 2))\n",
    "frames_number = 0\n",
    "last_frames_pos = np.zeros((HISTORY,len(bills),  2), dtype=np.int)\n",
    "last_frames_v = np.zeros((HISTORY, len(bills),  2), dtype=np.int)\n",
    "\n",
    "def calculate_velocity(x, y, fps, n_frames):\n",
    "  return np.sqrt(x**2 + y**2)/(n_frames/fps)\n",
    "\n",
    "video_tracker = cv2.VideoWriter('video_tracker_4.avi', cv2.VideoWriter_fourcc(*'DIVX'), fps, (width, height))\n",
    "video.set(cv2.CAP_PROP_POS_FRAMES, 0)\n",
    "\n",
    "while video.isOpened():\n",
    "    ret, frame = video.read()\n",
    "    \n",
    "    if ret:\n",
    "      pos = np.zeros((len(bills), 2), dtype=np.int)\n",
    "      vel = np.zeros((len(bills),2 ), dtype=np.int)\n",
    "\n",
    "      for idx, b in enumerate(bills):\n",
    "        ok, bbox = b.update(frame)\n",
    "        pos[idx] = count_centroid(bbox)\n",
    "\n",
    "        if distance(pos[idx], last_frames_pos[-1][idx]) > MOV_TOLERANCE:\n",
    "\n",
    "          vel[idx] = np.array([\n",
    "            pos[idx][0] - last_frames_pos[0][idx][0], pos[idx][1] - last_frames_pos[0][idx][1]\n",
    "          ])\n",
    "        else:\n",
    "          vel[idx] = np.array([0,0])\n",
    "\n",
    "        last_frames_pos = np.concatenate([last_frames_pos, [pos]], axis=0)\n",
    "        last_frames_v = np.concatenate([last_frames_v, [vel]], axis=0)\n",
    "\n",
    "        last_frames_pos = np.delete(last_frames_pos, 0, axis=0)\n",
    "        last_frames_v = np.delete(last_frames_v, 0, axis=0)\n",
    "\n",
    "        # cv2.putText(frame, 'ID', (res[0], res[1]), cv2.FONT_HERSHEY_SIMPLEX, 1, (0, 0, 255), 2)\n",
    "        if ok: draw_bbox(frame, bbox, (0, 255, 0))\n",
    "\n",
    "        bill_pos = last_frames_pos[-1][0]\n",
    "        bill_v = last_frames_v[-1][0]\n",
    "\n",
    "        velocity = calculate_velocity(bill_v[0], bill_v[1], fps, HISTORY)\n",
    "        # vectors[i] = [box[-1][0] - box[0][0], box[-1][1] - box[0][1]]\n",
    "        # velocity = count_velocity(vectors[i][0], vectors[i][1], fps, number_of_frames)\n",
    "        # print(vectors[i])\n",
    "        cv2.putText(frame, f'{velocity:.4f}', (200, 100), cv2.FONT_HERSHEY_SIMPLEX, 1, (0, 0, 255), 2)\n",
    "\n",
    "          # for j, bo in enumerate(last_frames[2]):\n",
    "          #   if (i != j):\n",
    "          #     result = count_distance(box, bo)\n",
    "          #     if result != 0:\n",
    "          #       if ~np.array_equal(last_frames[0][i],last_frames[-1][i]):\n",
    "          #         if frames_track[i][0] != j:\n",
    "          #           frames_track[i] = [j, frames_number]\n",
    "          #         if (frames_track[i][0] == j and frames_number - frames_track[i][1] < 180):\n",
    "          #           # print(i,j)\n",
    "          #           cv2.putText(frame, 'Collision', (result[0], result[1]), cv2.FONT_HERSHEY_SIMPLEX, 0.6, (0, 0, 255), 2)\n",
    "\n",
    "\n",
    "      video_tracker.write(frame)\n",
    "    else:\n",
    "        break\n",
    "    \n",
    "  \n",
    "    frames_number += 1\n",
    "\n",
    "    # if frames_number > 200:\n",
    "      # break\n",
    "\n",
    "video_tracker.release()"
   ]
  },
  {
   "cell_type": "code",
   "execution_count": 55,
   "metadata": {},
   "outputs": [],
   "source": [
    "!ffmpeg -hide_banner -loglevel error -i video_tracker_4.avi -y video_tracker_4.mp4"
   ]
  },
  {
   "cell_type": "code",
   "execution_count": 56,
   "metadata": {},
   "outputs": [
    {
     "data": {
      "application/vnd.jupyter.widget-view+json": {
       "model_id": "a90dd00a5bec4cc59af7a5c9fa338ebe",
       "version_major": 2,
       "version_minor": 0
      },
      "text/plain": [
       "Video(value=b'\\x00\\x00\\x00 ftypisom\\x00\\x00\\x02\\x00isomiso2avc1mp41\\x00\\x00\\x00\\x08free\\x00\\x0f\\xb3&mdat\\x00\\x…"
      ]
     },
     "metadata": {},
     "output_type": "display_data"
    }
   ],
   "source": [
    "Video.from_file('video_tracker_4.mp4')"
   ]
  },
  {
   "cell_type": "code",
   "execution_count": 23,
   "metadata": {},
   "outputs": [],
   "source": [
    "# !ffmpeg -hide_banner -loglevel error -i video_tracker_4.avi -y video_tracker_4.mp4"
   ]
  }
 ],
 "metadata": {
  "interpreter": {
   "hash": "e7c73bb61e1e781e5a38db13f9266bf69d55f6e669256f1cdd7a40f3a1ccea49"
  },
  "kernelspec": {
   "display_name": "Python 3.8.8 ('base')",
   "language": "python",
   "name": "python3"
  },
  "language_info": {
   "codemirror_mode": {
    "name": "ipython",
    "version": 3
   },
   "file_extension": ".py",
   "mimetype": "text/x-python",
   "name": "python",
   "nbconvert_exporter": "python",
   "pygments_lexer": "ipython3",
   "version": "3.7.5"
  },
  "orig_nbformat": 4
 },
 "nbformat": 4,
 "nbformat_minor": 2
}
