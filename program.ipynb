{
 "cells": [
  {
   "cell_type": "markdown",
   "metadata": {},
   "source": [
    "# Śledzenie rozgyrwki bilarda"
   ]
  },
  {
   "cell_type": "markdown",
   "metadata": {},
   "source": [
    "## Import niezbędnych bibliotek"
   ]
  },
  {
   "cell_type": "code",
   "execution_count": 3,
   "metadata": {},
   "outputs": [],
   "source": [
    "%matplotlib inline\n",
    "import matplotlib.pyplot as plt\n",
    "import numpy as np\n",
    "import cv2\n",
    "# import PIL\n",
    "# import os\n",
    "# import sys\n",
    "# import glob\n",
    "# import random\n",
    "\n",
    "# from pprint import pprint\n",
    "from ipywidgets import Video\n",
    "\n",
    "# from PIL import Image\n",
    "# from PIL.ExifTags import TAGS"
   ]
  },
  {
   "cell_type": "markdown",
   "metadata": {},
   "source": [
    "## Wczytanie danych do przetwarzania"
   ]
  },
  {
   "cell_type": "code",
   "execution_count": 2,
   "metadata": {},
   "outputs": [
    {
     "name": "stdout",
     "output_type": "stream",
     "text": [
      "Movie loaded! :)\n",
      "1136 1932\n",
      "59.91379310344828\n"
     ]
    }
   ],
   "source": [
    "video1_8ball = cv2.VideoCapture('./data/8-ball/8-ball_video_1.mov')\n",
    "if video1_8ball.isOpened():\n",
    "    print('Movie loaded! :)')\n",
    "\n",
    "\n",
    "video1_8ball_width = int(video1_8ball.get(3))\n",
    "video1_8ball_height = int(video1_8ball.get(4))\n",
    "\n",
    "print(video1_8ball_height, video1_8ball_width)\n",
    "\n",
    "video1_8ball_fps = video1_8ball.get(cv2.CAP_PROP_FPS)\n",
    "print(video1_8ball_fps)"
   ]
  },
  {
   "cell_type": "code",
   "execution_count": 4,
   "metadata": {},
   "outputs": [
    {
     "data": {
      "application/vnd.jupyter.widget-view+json": {
       "model_id": "ebc4c228cc3749889927ad14cef0c0ef",
       "version_major": 2,
       "version_minor": 0
      },
      "text/plain": [
       "Video(value=b'\\x00\\x00\\x00\\x14ftypqt  \\x00\\x00\\x00\\x00qt  \\x00\\x00\\x00\\x08wide\\x01;WOmdat\\x00\\x00\\x00\\x1e\\x06\\…"
      ]
     },
     "metadata": {},
     "output_type": "display_data"
    }
   ],
   "source": [
    "Video.from_file('./data/8-ball/8-ball_video_1.mov')"
   ]
  },
  {
   "cell_type": "code",
   "execution_count": null,
   "metadata": {},
   "outputs": [],
   "source": []
  }
 ],
 "metadata": {
  "interpreter": {
   "hash": "e7c73bb61e1e781e5a38db13f9266bf69d55f6e669256f1cdd7a40f3a1ccea49"
  },
  "kernelspec": {
   "display_name": "Python 3.8.8 ('base')",
   "language": "python",
   "name": "python3"
  },
  "language_info": {
   "codemirror_mode": {
    "name": "ipython",
    "version": 3
   },
   "file_extension": ".py",
   "mimetype": "text/x-python",
   "name": "python",
   "nbconvert_exporter": "python",
   "pygments_lexer": "ipython3",
   "version": "3.8.8"
  },
  "orig_nbformat": 4
 },
 "nbformat": 4,
 "nbformat_minor": 2
}
